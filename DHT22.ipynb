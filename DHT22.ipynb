{
 "cells": [
  {
   "cell_type": "markdown",
   "id": "47accd85-0990-4a0b-a259-cd0f8a65ff55",
   "metadata": {},
   "source": [
    "# DHT22 interface to RP pico 2040 micropython"
   ]
  },
  {
   "cell_type": "markdown",
   "id": "cfda7d2a-ea25-4c75-af5d-866e7a5a9f32",
   "metadata": {},
   "source": [
    "For more detailed instructions, you can check out:\n",
    "- https://microcontrollerslab.com/dht11-dht22-raspberry-pi-pico-micropython-tutorial/\n",
    "- https://randomnerdtutorials.com/raspberry-pi-pico-dht11-dht22-micropython/"
   ]
  },
  {
   "cell_type": "markdown",
   "id": "a85e73f0-d4a3-494e-a1f5-887dc45af558",
   "metadata": {},
   "source": [
    "To interface the DHT22 sensor with the Raspberry Pi Pico 2040 using MicroPython, here's a quick guide:\n",
    "\n",
    "### Wiring the DHT22:\n",
    "\n",
    "- Connect the VCC pin of the DHT22 to the 3.3V pin on the Pico.\n",
    "\n",
    "- Connect the GND pin of the DHT22 to a GND pin on the Pico.\n",
    "\n",
    "- Connect the DATA pin of the DHT22 to a GPIO pin on the Pico (e.g., GPIO 22). `Use a pull-up resistor (10kΩ) between the DATA and VCC pins`.\n",
    "\n",
    "### MicroPython Setup:\n",
    "\n",
    "- Install MicroPython on your Raspberry Pi Pico if you haven't already.\n",
    "\n",
    "- Use an IDE like Thonny to write and upload code to the Pico.\n",
    "\n",
    "### MicroPython Code:\n",
    "\n",
    "- Import the necessary modules:"
   ]
  },
  {
   "cell_type": "code",
   "execution_count": 2,
   "id": "a7cd2732-9005-445f-96d1-d563cc7aa7da",
   "metadata": {},
   "outputs": [
    {
     "name": "stdout",
     "output_type": "stream",
     "text": [
      "\u001b[31mNo serial connected\n",
      "  %serialconnect to connect\n",
      "  %esptool to flash the device\n",
      "  %lsmagic to list commands"
     ]
    }
   ],
   "source": [
    "from machine import Pin\n",
    "import dht\n",
    "import time\n"
   ]
  },
  {
   "cell_type": "markdown",
   "id": "0a92e14d-1a99-4591-ac89-9a84aff378e0",
   "metadata": {},
   "source": [
    "Initialize the DHT22 sensor:"
   ]
  },
  {
   "cell_type": "code",
   "execution_count": 3,
   "id": "0bd826c7-6f6f-4c30-8ac4-fa61f2963ad5",
   "metadata": {},
   "outputs": [
    {
     "name": "stdout",
     "output_type": "stream",
     "text": [
      "\u001b[31mNo serial connected\n",
      "  %serialconnect to connect\n",
      "  %esptool to flash the device\n",
      "  %lsmagic to list commands"
     ]
    }
   ],
   "source": [
    "sensor = dht.DHT22(Pin(22))  # Replace 22 with your GPIO pin\n"
   ]
  },
  {
   "cell_type": "markdown",
   "id": "ff1c9166-eb74-4fc3-926f-3cdab31c1307",
   "metadata": {},
   "source": [
    "Read and print temperature and humidity:"
   ]
  },
  {
   "cell_type": "code",
   "execution_count": 4,
   "id": "fb082621-1eaa-4886-b0d2-f967da821c5a",
   "metadata": {},
   "outputs": [
    {
     "name": "stdout",
     "output_type": "stream",
     "text": [
      "\u001b[31mNo serial connected\n",
      "  %serialconnect to connect\n",
      "  %esptool to flash the device\n",
      "  %lsmagic to list commands"
     ]
    }
   ],
   "source": [
    "while True:\n",
    "    try:\n",
    "        sensor.measure()\n",
    "        temp = sensor.temperature()\n",
    "        hum = sensor.humidity()\n",
    "        print(f\"Temperature: {temp}°C, Humidity: {hum}%\")\n",
    "        time.sleep(2)  # Wait 2 seconds between readings\n",
    "    except OSError as e:\n",
    "        print(\"Failed to read sensor.\")\n"
   ]
  },
  {
   "cell_type": "code",
   "execution_count": null,
   "id": "578d46f5-bf91-41e0-b997-5e55728325f0",
   "metadata": {},
   "outputs": [],
   "source": []
  },
  {
   "cell_type": "code",
   "execution_count": null,
   "id": "4c10365e-b8ee-4133-b83e-9436c899e2f9",
   "metadata": {},
   "outputs": [],
   "source": []
  }
 ],
 "metadata": {
  "kernelspec": {
   "display_name": "MicroPython - USB",
   "language": "micropython",
   "name": "micropython"
  },
  "language_info": {
   "codemirror_mode": "python",
   "file_extension": ".py",
   "mimetype": "text/python",
   "name": "micropython"
  }
 },
 "nbformat": 4,
 "nbformat_minor": 5
}
