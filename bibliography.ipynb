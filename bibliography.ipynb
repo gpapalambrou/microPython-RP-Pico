{
 "cells": [
  {
   "cell_type": "markdown",
   "id": "bc029fc8-44a3-4aa1-888d-fa8c1d0d0e5a",
   "metadata": {},
   "source": [
    "\n",
    "# Βιβλιογραφία\n",
    "\n",
    "## Α. Γενικά\n",
    "\n",
    "1. Fritzing - course, sketch, download: Σχεδίαση ηλεκτρονικών κυκλωμάτων,\n",
    "https://arduinofactory.fr/en/fritzing/\n",
    "\n",
    "1. Εγκατάσταση Jupyter, [Project Jupyter | Installing Jupyter](https://jupyter.org/install)\n",
    "\n",
    "1. Εγκατάσταση Micropython στο Jupyter,  https://pypi.org/project/jupyter_micropython_kernel/\n",
    "   \n",
    "1. Carl Kadie, [Nine Pico PIO Wats with MicroPython (Part 1)](https://medium.com/towards-data-science/nine-pico-pio-wats-with-micropython-part-1-82b80fb84473)\n",
    "\n",
    "   \n",
    "\n",
    "## Β. Πηγές για MicroPython\n",
    "1. https://micropython.org/download/\n",
    "1. https://www.raspberrypi.com/documentation/microcontrollers/micropython.html#what-is-micropython\n",
    "\n",
    "\n",
    "## Γ. Πηγές για Raspberry Pico \n",
    "\n",
    "1. Pico-series Microcontrollers - Raspberry Pi Documentation,\n",
    "https://www.raspberrypi.com/documentation/microcontrollers/pico-series.html#pico-1-family\n",
    "\n",
    "1. G. Halfacree, B. Everard, Get Started with MicroPython on Raspberry Pi Pico, 2021, [free pdf](https://www.dbooks.org/get-started-with-micropython-on-raspberry-pi-pico-1912047861/#:~:text=You%20can%20download%20Get%20Started%20with%20MicroPython%20on,is%20a%20new%20low-cost%2C%20high-performance%20microcontroller%20board%20wit)\n",
    "\n",
    "\n",
    "## Δ. Πηγές για Python\n",
    "\n",
    "\n",
    "1. E.  Matthes, Python Crash Course, 3rd ed., No starch press, 2023, [GitHub - ehmatthes/pcc_3e: Online resources for Python Crash Course, 3rd edition](https://github.com/ehmatthes/pcc_3e)\n",
    "1. J. VanderPlas, A Whirlwind Tour of Python, https://jakevdp.github.io/WhirlwindTourOfPython/\n",
    "1. J. VanderPlas, PyData 101, PyData Seattle 2017, https://speakerdeck.com/jakevdp/pydata-101?slide=86\n",
    "1. J. VanderPlas, Reproducible Data Analysis in Jupyter, Part 1/10: Loading and Visualizing Data, YouTube Videos\n"
   ]
  }
 ],
 "metadata": {
  "kernelspec": {
   "display_name": "Python 3 (ipykernel)",
   "language": "python",
   "name": "python3"
  },
  "language_info": {
   "codemirror_mode": {
    "name": "ipython",
    "version": 3
   },
   "file_extension": ".py",
   "mimetype": "text/x-python",
   "name": "python",
   "nbconvert_exporter": "python",
   "pygments_lexer": "ipython3",
   "version": "3.12.9"
  }
 },
 "nbformat": 4,
 "nbformat_minor": 5
}
