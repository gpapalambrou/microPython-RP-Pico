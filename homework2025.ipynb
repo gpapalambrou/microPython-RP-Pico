{
 "cells": [
  {
   "cell_type": "markdown",
   "id": "7980de6b-1118-4301-8ba5-a6ecd1912c67",
   "metadata": {},
   "source": [
    "# Homework 2025\n",
    "\n",
    "<div class=\"alert alert-block alert-warning\">\n",
    "<b>Στόχος</b> \n",
    "\n",
    "Συνδυασμός όλων των δεξιοτήτων για το σχεδιασμό, την ανάπτυξη και την αντιμετώπιση προβλημάτων ενός ολοκληρωμένου έργου με χρήση μικροελεγκτών RP Pico 2040/2350.\n",
    "\n",
    "\n",
    "**Πλακέτες & Ηλεκτρονικά που θα χρησιμοποιηθούν**\n",
    "- MPU6050-Accelerometer\n",
    "- SS49-Magnetic sensor\n",
    "- INA219-Current sensor\n",
    "- K-thermocouple & MAX31856\n",
    "- DHT22-Humidity/Temperature sensor\n",
    "- Άλλο (δικής σας επιλογής...)\n"
   ]
  },
  {
   "cell_type": "markdown",
   "id": "93467204-2bb9-4b24-9784-b587d2b29d7c",
   "metadata": {},
   "source": [
    "\n",
    "<div class=\"alert alert-block alert-success\">\n",
    "    <b>Προδιαγραφές εφαρμογής που θα αναπτυχθεί στο Homework 2025</b>\n",
    "\n",
    "\n",
    "- Συνδεσμολογία εξαρτημάτων σε breadboard\n",
    "- Γνώση βασικών χαρακτηριστικών ΟΛΩΝ των εξαρτημάτων που βρίσκονται διασυνδεμένα στο breadboard\n",
    "- Εφαρμογή δειγματοληψίας με Python\n",
    "- Αποθήκευση δεδομένων σε αρχείο csv στο RP Pico\n",
    "- Python για να ενσωματώσει εντολές: πχ  διαχείριση αρχείων σε ένα RP Pico με το εργαλείο ampy (Adafruit MicroPython Tool) σε ένα παράθυρο PowerShell (Windows10/11).\n",
    "- Matplotlib/Seaborn για τις γραφικές παραστάσεις των αποτελεσμάτων δειγματοληψίας\n",
    "\n",
    "\n",
    "</div>"
   ]
  },
  {
   "cell_type": "code",
   "execution_count": null,
   "id": "6a99225c-a3aa-4017-80a8-88a00ad1f1b9",
   "metadata": {},
   "outputs": [],
   "source": []
  }
 ],
 "metadata": {
  "kernelspec": {
   "display_name": "MicroPython - USB",
   "language": "micropython",
   "name": "micropython"
  },
  "language_info": {
   "codemirror_mode": "python",
   "file_extension": ".py",
   "mimetype": "text/python",
   "name": "micropython"
  }
 },
 "nbformat": 4,
 "nbformat_minor": 5
}
