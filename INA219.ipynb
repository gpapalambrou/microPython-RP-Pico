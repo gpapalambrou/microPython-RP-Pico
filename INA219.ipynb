{
 "cells": [
  {
   "cell_type": "markdown",
   "id": "6a83a515-984b-4160-990e-46b12481761b",
   "metadata": {},
   "source": [
    "# Interface INA219 to RP Pico 2040 Micropython"
   ]
  },
  {
   "cell_type": "markdown",
   "id": "b7d9a0ae-ad05-4865-8ba5-9874430f4bee",
   "metadata": {},
   "source": [
    "To interface the INA219 current sensor with the Raspberry Pi Pico 2040 using MicroPython, here's a general guide:\n",
    "\n",
    "## Hardware Setup\n",
    "### Components Needed:\n",
    "\n",
    " - Raspberry Pi Pico 2040\n",
    "\n",
    "- INA219 current sensor module\n",
    "\n",
    "- Jumper wires\n",
    "\n",
    "- Breadboard (optional)\n",
    "\n",
    "### Connections:\n",
    "\n",
    "- Connect the SDA pin of the INA219 to the Pico's I2C SDA pin (e.g., GP0).\n",
    "\n",
    "- Connect the SCL pin of the INA219 to the Pico's I2C SCL pin (e.g., GP1).\n",
    "\n",
    "- Power the INA219 module using the Pico's 3.3V or 5V pin.\n",
    "\n",
    "- Connect the ground (GND) of the INA219 to the Pico's GND."
   ]
  },
  {
   "cell_type": "markdown",
   "id": "e2f7bd34-51b0-42f6-8c78-8b75afbe9677",
   "metadata": {},
   "source": [
    "# Software Setup"
   ]
  },
  {
   "cell_type": "markdown",
   "id": "a44aef55-6b2c-46f5-9718-d5e8b0e4478b",
   "metadata": {},
   "source": [
    "## MicroPython Libraries:\n",
    "\n",
    "Use a library like ina219.py to communicate with the sensor. You can find such libraries on platforms like GitHub.\n",
    "\n",
    "## Sample Code: \n",
    "\n",
    "Here's an example script to read voltage and current:"
   ]
  },
  {
   "cell_type": "code",
   "execution_count": null,
   "id": "668b6e65-0024-4767-ab54-e4481f23f7bd",
   "metadata": {},
   "outputs": [],
   "source": [
    "from machine import I2C, Pin\n",
    "from ina219 import INA219\n",
    "\n",
    "# Initialize I2C\n",
    "i2c = I2C(0, scl=Pin(1), sda=Pin(0))\n",
    "\n",
    "# Initialize INA219\n",
    "sensor = INA219(i2c)\n",
    "sensor.configure()\n",
    "\n",
    "# Read values\n",
    "voltage = sensor.voltage()\n",
    "current = sensor.current()\n",
    "print(\"Voltage: {:.2f} V\".format(voltage))\n",
    "print(\"Current: {:.2f} mA\".format(current))\n"
   ]
  },
  {
   "cell_type": "markdown",
   "id": "718b77fa-dd60-4dcf-a5af-699daaa25f67",
   "metadata": {},
   "source": [
    "## For more detailed instructions\n",
    "\n",
    "Check out resources like this tutorial https://diyprojectslab.com/raspberry-pi-pico-energy-meter-ina219/\n",
    "or this GitHub repository https://github.com/marcokister/ina219"
   ]
  },
  {
   "cell_type": "code",
   "execution_count": null,
   "id": "533f6088-942f-4dee-bbc6-d36a4f756e0b",
   "metadata": {},
   "outputs": [],
   "source": []
  }
 ],
 "metadata": {
  "kernelspec": {
   "display_name": "MicroPython - USB",
   "language": "micropython",
   "name": "micropython"
  },
  "language_info": {
   "codemirror_mode": "python",
   "file_extension": ".py",
   "mimetype": "text/python",
   "name": "micropython"
  }
 },
 "nbformat": 4,
 "nbformat_minor": 5
}
