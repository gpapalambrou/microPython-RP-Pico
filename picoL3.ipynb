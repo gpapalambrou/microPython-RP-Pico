{
 "cells": [
  {
   "cell_type": "markdown",
   "id": "22c4fd82-9389-40bc-9f09-a3e174779547",
   "metadata": {},
   "source": [
    "# Μάθημα 3:  Αναλογικές Είσοδοι\n",
    "**Ημερομηνία:** 10/3/2025,\n",
    "`Γ. Παπαλάμπρου`"
   ]
  },
  {
   "cell_type": "markdown",
   "id": "36ec8a55-d77d-467e-8373-1e27a879f8c1",
   "metadata": {},
   "source": [
    "## Στόχοι\n",
    "- Χρήση του μετατροπέα Analog-to-Digital Converter (ADC): Διαβάζοντας αναλογικές τιμές\n",
    "- Διαβάζοντας ένα ποτενσιόμετρο\n",
    "- Αποθηκεύοντας δεδομένα δειγματοληψίας σε αρχείο\n"
   ]
  },
  {
   "cell_type": "markdown",
   "id": "3a206268-a3cb-43f6-88b2-3c76ffa27fe9",
   "metadata": {},
   "source": [
    "## Εισαγωγή\n",
    "- Οι Αναλογικές είσοδοι στην πλακέτα Raspberry Pi Pico 2040/2350, https://www.raspberrypi.com/documentation/microcontrollers/pico-series.html\n",
    "- Δείτε το Κεφ. 3-Physical computing από το [3], για τις συνδέσεις (pins) \n",
    "- Μελετήστε επίσης το βασικό υλικό: Breadboard, Potentiometer, Jumper wires\n",
    "- Δείτε το Κεφ. 8-Temperature gauge από το [3]\n",
    "- Δείτε το Κεφ. 9-Data logger από το [3]\n",
    "\n"
   ]
  },
  {
   "cell_type": "markdown",
   "id": "866af9ab-f5c4-4eaf-bbd9-7a161bb5c0dc",
   "metadata": {},
   "source": [
    "## Σχετική Βιβλιογραφία\n",
    "1. Raspberry Pi Pico Datasheet: https://www.raspberrypi.com/documentation/microcontrollers/\n",
    "1. MicroPython Documentation: https://docs.micropython.org/en/latest/\n",
    "1. G. Halfacree, B. Everard, Get Started with MicroPython on Raspberry Pi Pico, 2021, [free pdf](https://www.dbooks.org/get-started-with-micropython-on-raspberry-pi-pico-1912047861/#:~:text=You%20can%20download%20Get%20Started%20with%20MicroPython%20on,is%20a%20new%20low-cost%2C%20high-performance%20microcontroller%20board%20wit)\n"
   ]
  },
  {
   "cell_type": "markdown",
   "id": "c8f1597a-0d87-4bd0-b9ee-8f333f396c69",
   "metadata": {},
   "source": [
    "## Βασικές συνδέσεις\n",
    " - Δείτε στο Κεφ. 8-Temperature gauge από το [3], p. 93-100, συνδέσεις εξωτερικού ποτενσιόμετρου."
   ]
  },
  {
   "cell_type": "markdown",
   "id": "9764a113-0da1-4cc4-af55-7f7f68c6e354",
   "metadata": {},
   "source": [
    "## Πρόγραμμα για το ποτενσιόμετρο, L3-1"
   ]
  },
  {
   "cell_type": "markdown",
   "id": "4d49e83c-d6c9-488c-bbfc-8cb6fd0e7aa9",
   "metadata": {},
   "source": [
    "### Εξαρτήματα\n",
    "- Breadboard\n",
    "- Potentiometer - ποτενσιόμετρο (και ένα λεπτό ίσιο κατσαβίδι)\n",
    "- Jumper wires"
   ]
  },
  {
   "cell_type": "markdown",
   "id": "6e1829f5-a3aa-4994-880b-5922d29aa5e6",
   "metadata": {},
   "source": [
    "### Συνδέσεις\n",
    "Το αρχείο L3-1.png περιλαμβάνει τις συνδέσεις των εξαρτημάτων, όπως δείχνει η παρακάτω εικόνα."
   ]
  },
  {
   "attachments": {
    "fe733281-651b-4ae9-bcb3-d7775a343cf4.png": {
     "image/png": "[encoded data removed]"
    }
   },
   "cell_type": "markdown",
   "id": "e0942f89-af6b-47fc-86af-9b52394c17c5",
   "metadata": {},
   "source": [
    "![L3-2.png](attachment:fe733281-651b-4ae9-bcb3-d7775a343cf4.png)"
   ]
  },
  {
   "cell_type": "markdown",
   "id": "8de314db-7a10-4107-aba7-774866963e42",
   "metadata": {},
   "source": [
    "Δείτε την χρήση του μετατροπέα σήματος από αναλογικό σε ψηφιακό - analogue-to-digital converter (A/D) στο [3]. "
   ]
  },
  {
   "cell_type": "markdown",
   "id": "2d5fa33d-481c-420e-8d6d-d75b356c130d",
   "metadata": {},
   "source": [
    "Ένα ADC έχει δύο βασικά χαρακτηριστικά: την ανάλυσή του, μετρούμενη σε ψηφιακά bits, και τα κανάλια του ή πόσα αναλογικά σήματα μπορεί να δεχτεί και να μετατρέψει ταυτόχρονα. Το ADC στο Pico έχει ανάλυση 12 bit, πράγμα που σημαίνει ότι μπορεί να μετατρέψει ένα αναλογικό σήμα σε ψηφιακό σήμα ως αριθμό που κυμαίνεται από 0 έως 4095 - αν και αυτό αντιμετωπίζεται σε MicroPython που μετατρέπεται σε αριθμό 16-bit που κυμαίνεται από 0 έως 65535, έτσι ώστε να συμπεριφέρεται το ίδιο με το ADC σε άλλους μικροελεγκτές MicroPython. \n",
    "\n",
    "Έχει τρία κανάλια που βγαίνουν στις ακίδες GPIO: GP26, GP27 και GP28, τα οποία είναι επίσης γνωστά ως GP26_ADC0, GP27_ADC1 και GP28_ADC2 για αναλογικά κανάλια 0, 1 και 2 αντίστοιχα. \n",
    "\n",
    "Υπάρχει επίσης ένα τέταρτο κανάλι ADC, το οποίο συνδέεται εσωτερικά με έναν αισθητήρα θερμοκρασίας ενσωματωμένο στο RP2040."
   ]
  },
  {
   "cell_type": "markdown",
   "id": "2980093a-9a5e-4470-a3d9-cd8dc52ad107",
   "metadata": {},
   "source": [
    "## Διαβάζοντας το ποτενσιόμετρο\n",
    "\n",
    "\n",
    "Ο πιο κοινός τύπος έχει είτε ένα μικρό, συνήθως πλαστικό, κουμπί που βγαίνει από την κορυφή ή υπάρχει μπροστά χωνευτό: αυτό είναι γνωστό ως περιστροφικό ποτενσιόμετρο.\n",
    "Πάρτε το ποτενσιόμετρο  και παρατηρείστε ότι έχει τρεις ακίδες που ταιριάζουν στο breadboard. \n",
    "Ανάλογα με το πώς συνδέετε αυτές τις ακίδες, το ποτενσιόμετρο λειτουργεί σε δύο διαφορετικές\n",
    "τρόπους. \n",
    "\n",
    "Ξεκινήστε εισάγοντας το ποτενσιόμετρο στο breadboard σας, προσέχοντας να μην λυγίσετε τα pins. \n",
    "Συνδέστε το μεσαίο pin στο GP26_ADC0 στο Pico σας χρησιμοποιώντας έναν βραχυκυκλωτήρα αρσενικό σε αρσενικό (M2M). Τέλος, πάρτε δύο ακόμη καλώδια βραχυκυκλωτήρα και συνδέστε ένα από τα εξωτερικά pins του ποτενσιόμετρου-δεν έχει σημασία ποια-στη ράγα ισχύος του breadboard σας και την ράγα ισχύος στο δικό σας 3V3 του Pico και το άλλο από τα εξωτερικά pins στην γείωση (GND)."
   ]
  },
  {
   "cell_type": "code",
   "execution_count": 43,
   "id": "098fd5cf-1db5-402c-aeca-390674bd2444",
   "metadata": {
    "scrolled": true
   },
   "outputs": [
    {
     "name": "stdout",
     "output_type": "stream",
     "text": [
      "\u001b[34mConnecting to --port=COM9 --baud=115200 \u001b[0m\n",
      "\u001b[34mReady.\n",
      "\u001b[0m"
     ]
    }
   ],
   "source": [
    "%serialconnect"
   ]
  },
  {
   "cell_type": "code",
   "execution_count": 44,
   "id": "ac91ba96-46d8-43f3-bfa9-105d1d3a7963",
   "metadata": {},
   "outputs": [],
   "source": [
    "import machine\n",
    "import utime"
   ]
  },
  {
   "cell_type": "markdown",
   "id": "ef4ffe74-3654-4cd7-817d-4e02bf084ac6",
   "metadata": {},
   "source": [
    "Ο παρακάτω κώδικας ρυθμίζει το pin GP26_ADC0 ως το πρώτο κανάλι, ADC0, του μετατροπέα analogue-to-digital."
   ]
  },
  {
   "cell_type": "code",
   "execution_count": 45,
   "id": "f88ec6b9-e984-4336-af67-2af5e73db117",
   "metadata": {},
   "outputs": [],
   "source": [
    "potentiometer = machine.ADC(26)"
   ]
  },
  {
   "cell_type": "markdown",
   "id": "d1cb1855-9d8c-4e04-9034-1f6036022a3e",
   "metadata": {},
   "source": [
    "Για ανάγνωση από το pin αυτό, δημιουργείστε τον βρόχο-loop while True: "
   ]
  },
  {
   "cell_type": "code",
   "execution_count": 46,
   "id": "1bcaba5f-f54d-4590-8e9c-ea9dc0f93748",
   "metadata": {
    "scrolled": true
   },
   "outputs": [
    {
     "name": "stdout",
     "output_type": "stream",
     "text": [
      "23509\n",
      "23381\n",
      "23461\n",
      "\u001b[34m\n",
      "\n",
      "*** Sending Ctrl-C\n",
      "\n",
      "\u001b[0m"
     ]
    },
    {
     "name": "stderr",
     "output_type": "stream",
     "text": [
      "Traceback (most recent call last):\n",
      "  File \"<stdin>\", line 3, in <module>\n",
      "KeyboardInterrupt: \n"
     ]
    }
   ],
   "source": [
    "while True:\n",
    "    print(potentiometer.read_u16())\n",
    "    utime.sleep(2)"
   ]
  },
  {
   "cell_type": "markdown",
   "id": "6b687e4a-5e3e-44b3-9570-9059706997fe",
   "metadata": {},
   "source": [
    "Ο παρακάτω κώδικας δημιουργεί έναν μαθηματικό τρόπο μετατροπής του αριθμού που σας δίνει ο μετατροπέας αναλογικού σε ψηφιακό σε μια (σχετικά) ακριβή προσέγγιση της πραγματικής τάσης που αντιπροσωπεύει. Ο πρώτος αριθμός είναι η μέγιστη δυνατή τάση που μπορεί να περιμένει το pin, δηλ. 3.3 V, από τον ακροδέκτη 3V3 του Pico σας. Ο δεύτερος αριθμός είναι η μέγιστη τιμή που μπορεί να είναι η αναλογική ένδειξη εισόδου, ίση με 65535."
   ]
  },
  {
   "cell_type": "code",
   "execution_count": 15,
   "id": "ab483954-b9aa-4cdf-9b4e-f84980840c61",
   "metadata": {},
   "outputs": [],
   "source": [
    "conversion_factor = 3.3 / (65535)"
   ]
  },
  {
   "cell_type": "code",
   "execution_count": 16,
   "id": "e8b0e159-89b7-41d6-9c0c-11126b903f4f",
   "metadata": {},
   "outputs": [
    {
     "name": "stdout",
     "output_type": "stream",
     "text": [
      "0.6801419\n",
      "0.6777248\n",
      "0.6785305\n",
      "0.6753078\n",
      ".3.181566\n",
      "3.27019\n",
      "2.092039\n",
      ".0.9436484\n",
      "1.175734\n",
      "1.180568\n",
      ".1.174122\n",
      "1.175734\n",
      "1.176539\n",
      "1.177345\n",
      ".1.174928\n",
      "1.177345\n",
      "1.174122\n",
      ".1.18379\n",
      "1.178151\n",
      "1.175734\n",
      ".1.175734\n",
      "1.184596\n",
      "1.182179\n",
      "1.178151\n",
      ".1.175734\n",
      "1.176539\n",
      "1.181373\n",
      ".1.180568\n",
      "1.176539\n",
      "1.173316\n",
      ".1.174928\n",
      "1.179762\n",
      "1.184596\n",
      "1.180568\n",
      ".\u001b[34m\n",
      "\n",
      "*** Sending Ctrl-C\n",
      "\n",
      ".174928\n"
     ]
    },
    {
     "name": "stderr",
     "output_type": "stream",
     "text": [
      "Traceback (most recent call last):\n",
      "  File \"<stdin>\", line 4, in <module>\n",
      "KeyboardInterrupt: \n"
     ]
    }
   ],
   "source": [
    "while True:\n",
    "    voltage = potentiometer.read_u16() * conversion_factor\n",
    "    print(voltage)\n",
    "    utime.sleep(2)"
   ]
  },
  {
   "cell_type": "code",
   "execution_count": null,
   "id": "0e192fb5-a801-460d-90af-8c8152808f36",
   "metadata": {},
   "outputs": [],
   "source": []
  },
  {
   "attachments": {},
   "cell_type": "markdown",
   "id": "cb9abe06-8c66-4cf5-9580-472c7c9138c4",
   "metadata": {},
   "source": [
    "## Μετρώντας θερμοκρασία, L3-2.py\n",
    "\n",
    "### Εξαρτήματα\n",
    "- Breadboard με RP Pico \n",
    "- (Ενσωματωμένο αισθητήριο θεεμοκρασίας)"
   ]
  },
  {
   "cell_type": "code",
   "execution_count": 47,
   "id": "7f6e7a7d-b7b7-4e3a-8261-13da87e18ea1",
   "metadata": {},
   "outputs": [
    {
     "name": "stdout",
     "output_type": "stream",
     "text": [
      "\u001b[34mConnecting to --port=COM9 --baud=115200 \u001b[0m\n",
      "\u001b[34mReady.\n",
      "\u001b[0m"
     ]
    }
   ],
   "source": [
    "%serialconnect"
   ]
  },
  {
   "cell_type": "code",
   "execution_count": 48,
   "id": "7ce5c14c-75e4-4558-aeeb-5214bd5a0917",
   "metadata": {},
   "outputs": [],
   "source": [
    "import machine\n",
    "import utime"
   ]
  },
  {
   "cell_type": "code",
   "execution_count": 50,
   "id": "a25b0907-0cec-4875-80fe-57787e6c969f",
   "metadata": {},
   "outputs": [],
   "source": [
    "sensor_temp = machine.ADC(4)"
   ]
  },
  {
   "cell_type": "code",
   "execution_count": 52,
   "id": "d2ca8134-bf82-4f21-b88a-b6abc557e62d",
   "metadata": {},
   "outputs": [],
   "source": [
    "conversion_factor = 3.3 / (65535)"
   ]
  },
  {
   "cell_type": "code",
   "execution_count": 53,
   "id": "015f95a2-9ca3-4a6a-b84a-06fd38c405d4",
   "metadata": {},
   "outputs": [
    {
     "name": "stdout",
     "output_type": "stream",
     "text": [
      "20.95853\n",
      "21.89482\n",
      "21.42667\n",
      "20.95853\n",
      ".21.42667\n",
      "\u001b[34m\n",
      "\n",
      "*** Sending Ctrl-C\n",
      "\n",
      "\u001b[0m"
     ]
    },
    {
     "name": "stderr",
     "output_type": "stream",
     "text": [
      "Traceback (most recent call last):\n",
      "  File \"<stdin>\", line 5, in <module>\n",
      "KeyboardInterrupt: \n"
     ]
    }
   ],
   "source": [
    "while True:\n",
    "    reading = sensor_temp.read_u16() * conversion_factor\n",
    "    temperature = 27 - (reading - 0.706)/0.001721\n",
    "    print(temperature)\n",
    "    utime.sleep(2)"
   ]
  },
  {
   "cell_type": "markdown",
   "id": "6783641b-a80e-44dd-b11d-9c3a347c4447",
   "metadata": {},
   "source": [
    "## Το ίδιο πρόγραμμα σε Visual Code Studio, picoL3-2.py\n",
    "- Δώστε CTRL+SHIFT+P για να γίνει η σύνδεση του VCS με το RP Pico. Τότε στο κάτω toolbar του VCS θα γράφεται `Pico Connected`. Επίσης όταν χάνεται η σύνδεση ΗΥ-Pico θα πρέπει να επανασυνδέσετε το Pico.\n",
    "- Για να τρέξετε ένα πρόγραμμα σε Micropython, θα δώσετε  στο κάτω toolbar του VCS `Run`. Για τον τερματισμό θα δώσετε `Stop`."
   ]
  },
  {
   "cell_type": "code",
   "execution_count": 37,
   "id": "05ce0410-b2df-4c50-8baa-a8a40aff5c52",
   "metadata": {},
   "outputs": [
    {
     "name": "stdout",
     "output_type": "stream",
     "text": [
      "22.36296\n",
      "21.42667\n",
      "21.89482\n",
      "\u001b[34m\n",
      "\n",
      "*** Sending Ctrl-C\n",
      "\n",
      "\u001b[0m"
     ]
    },
    {
     "name": "stderr",
     "output_type": "stream",
     "text": [
      "Traceback (most recent call last):\n",
      "  File \"<stdin>\", line 19, in <module>\n",
      "KeyboardInterrupt: \n"
     ]
    }
   ],
   "source": [
    "\"\"\"\n",
    "Usea A/D and read the onboard temperature sensor\n",
    "in RP2040\n",
    "\n",
    "GP, 3/10/25\n",
    "File: picoL3-2.py\n",
    "\"\"\"\n",
    "\n",
    "import machine\n",
    "import utime\n",
    "\n",
    "sensor_temp = machine.ADC(4)\n",
    "conversion_factor = 3.3 / (65535)\n",
    "\n",
    "while True:\n",
    "    reading = sensor_temp.read_u16() * conversion_factor\n",
    "    temperature = 27 - (reading - 0.706)/0.001721\n",
    "    print(temperature)\n",
    "    utime.sleep(2)"
   ]
  },
  {
   "cell_type": "markdown",
   "id": "ffeb9e89-7020-4600-a13f-711ab3125bc2",
   "metadata": {},
   "source": [
    "## Data logger\n"
   ]
  },
  {
   "cell_type": "markdown",
   "id": "6f131d35-8a6c-4519-9506-fca3c49e3510",
   "metadata": {},
   "source": [
    "Μετατρέψτε το Raspberry Pi Pico σε \n",
    "συσκευή καταγραφής δεδομένων θερμοκρασίας (data logger) και αποσυνδέστε το από\n",
    "τον υπολογιστή για να γίνει πλήρως φορητή συσκευή.\n",
    "\n",
    "Για περισσότερα στοιχεία δείτε από το [3] το Κεφ. 9 - Data logger, p. 104-114."
   ]
  },
  {
   "cell_type": "code",
   "execution_count": null,
   "id": "e35cea79-f945-4f1a-ae35-36d22b4eabcd",
   "metadata": {},
   "outputs": [],
   "source": []
  },
  {
   "cell_type": "markdown",
   "id": "cc99ae30-92df-4970-8c51-f4155a633c86",
   "metadata": {},
   "source": [
    "## Το σύστημα αρχείων"
   ]
  },
  {
   "cell_type": "markdown",
   "id": "04074f1c-f027-4b63-aeaf-ca17122c9d0c",
   "metadata": {},
   "source": [
    "Το σύστημα αρχείων είναι όπου το Pico σας αποθηκεύει όλα τα προγράμματα που έχετε γράψει. Είναι ισοδύναμο σε\n",
    "λειτουργία στην κάρτα microSD  ή στον σκληρό δίσκο  στο δικό σας\n",
    "φορητό ή επιτραπέζιο υπολογιστή: είναι μια μορφή μη πτητικής αποθήκευσης, πράγμα που σημαίνει ότι ό,τι και αν\n",
    "αποθήκευσει εκεί παραμένει στη θέση του ακόμα και όταν αποσυνδέετε το καλώδιο micro USB του Pico."
   ]
  },
  {
   "cell_type": "markdown",
   "id": "a0853f72-49c1-49df-83ef-cd37f627f7d9",
   "metadata": {},
   "source": []
  },
  {
   "cell_type": "markdown",
   "id": "7c36026e-7ce6-4b71-a87e-b027f8de775d",
   "metadata": {},
   "source": [
    "## Μεταφορά αρχείων δειγματοληψίας στον ΗΥ σας\n",
    "- Η διαχείριση αρχείων σε ένα RP Pico γίνεται με  το εργαλείο  `ampy` (Adafruit MicroPython Tool) σε ένα παράθυρο PowerShell (Windows10/11),  <span style=\"color: red\">   ΑΦΟΥ ΠΡΩΤΑ έχετε διακόψει άλλη επικοινωνία με το Pico (πχ σύνδεση με Jupyter, VCS κλπ) </span>\n",
    "- Για Windows10/11, με τον Device Manager-Ports θα βρείτε την USB Serial Device, πχ COM9\n",
    "- Για να δείτε τα αρχεία στο RP Pico: `ampy --port COM9 ls`\n",
    "- Για να λάβετε ένα αρχείο από το RP Pico στον ΗΥ σας: `ampy --port COM9 get data49on.csv > data49on.csv`\n",
    "- Για να σβύσετε ένα αρχείο από το RP Pico: `ampy --port COM8 rm file-to-remove.py`\n",
    "- Γενική βοήθεια: `ampy --help`"
   ]
  },
  {
   "cell_type": "code",
   "execution_count": null,
   "id": "a0925604-dba9-4026-a094-c8bd746a7dea",
   "metadata": {},
   "outputs": [],
   "source": []
  },
  {
   "cell_type": "markdown",
   "id": "7a4c1dc3-fe0f-4282-8cbf-1535d8620078",
   "metadata": {},
   "source": [
    "## Logging temperatures, L3-3.py"
   ]
  },
  {
   "cell_type": "code",
   "execution_count": 39,
   "id": "53bffb56-77d5-4c05-82f1-59782e4c06c6",
   "metadata": {},
   "outputs": [
    {
     "name": "stdout",
     "output_type": "stream",
     "text": [
      "...\u001b[34m\n",
      "\n",
      "*** Sending Ctrl-C\n",
      "\n",
      "\u001b[0m"
     ]
    },
    {
     "name": "stderr",
     "output_type": "stream",
     "text": [
      "Traceback (most recent call last):\n",
      "  File \"<stdin>\", line 16, in <module>\n",
      "KeyboardInterrupt: \n"
     ]
    }
   ],
   "source": [
    "import machine\n",
    "import utime\n",
    "sensor_temp = machine.ADC(machine.ADC.CORE_TEMP)\n",
    "\n",
    "sensor_temp = machine.ADC(machine.ADC.CORE_TEMP)\n",
    "\n",
    "conversion_factor = 3.3 / (65535)\n",
    "\n",
    "file = open(\"temps.txt\", \"w\")\n",
    "\n",
    "while True:\n",
    "    reading = sensor_temp.read_u16() * conversion_factor\n",
    "    temperature = 27 - (reading - 0.706)/0.001721\n",
    "    file.write(str(temperature))\n",
    "    file.flush()\n",
    "    utime.sleep(10)"
   ]
  },
  {
   "cell_type": "markdown",
   "id": "c813b5ca-160b-4b82-ad25-0cf4c6add275",
   "metadata": {},
   "source": [
    "## Εκτύπωση γραφημάτων\n",
    "Αφού έχετε μεταφέρει στον ΗΥ σας από το RP Pico το αρχείο με τις μετρήσεις, μπορείτε να χρησιμοποιήσετε την βιβλιοθήκη της Python Matplotlib για να κάνετε τα γραφήματα με τις μεταβολές των μεγεθών.\n"
   ]
  },
  {
   "cell_type": "markdown",
   "id": "6d184d11-ebfb-435e-b7ae-f33039c10e60",
   "metadata": {},
   "source": [
    "## Επόμενα Βήματα\n",
    "- Δείτε από το [3] τα XXXXXXXXXXXXX"
   ]
  },
  {
   "cell_type": "code",
   "execution_count": null,
   "id": "1ace7a64-e30c-4e7d-8294-1119a35b95fe",
   "metadata": {},
   "outputs": [],
   "source": []
  },
  {
   "cell_type": "code",
   "execution_count": null,
   "id": "acdb7fab-42ff-4711-a3f5-dfcef17e0e46",
   "metadata": {},
   "outputs": [],
   "source": []
  }
 ],
 "metadata": {
  "kernelspec": {
   "display_name": "MicroPython - USB",
   "language": "micropython",
   "name": "micropython"
  },
  "language_info": {
   "codemirror_mode": "python",
   "file_extension": ".py",
   "mimetype": "text/python",
   "name": "micropython"
  }
 },
 "nbformat": 4,
 "nbformat_minor": 5
}
